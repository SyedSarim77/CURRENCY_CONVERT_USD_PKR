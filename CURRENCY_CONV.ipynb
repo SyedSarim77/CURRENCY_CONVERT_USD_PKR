{
  "nbformat": 4,
  "nbformat_minor": 0,
  "metadata": {
    "colab": {
      "provenance": [],
      "authorship_tag": "ABX9TyPdXNZstRSCW5eQjtrteDq8",
      "include_colab_link": true
    },
    "kernelspec": {
      "name": "python3",
      "display_name": "Python 3"
    },
    "language_info": {
      "name": "python"
    }
  },
  "cells": [
    {
      "cell_type": "markdown",
      "metadata": {
        "id": "view-in-github",
        "colab_type": "text"
      },
      "source": [
        "<a href=\"https://colab.research.google.com/github/SyedSarim77/CURRENCY_CONVERT_USD_PKR/blob/main/CURRENCY_CONV.ipynb\" target=\"_parent\"><img src=\"https://colab.research.google.com/assets/colab-badge.svg\" alt=\"Open In Colab\"/></a>"
      ]
    },
    {
      "cell_type": "code",
      "execution_count": 2,
      "metadata": {
        "colab": {
          "base_uri": "https://localhost:8080/"
        },
        "id": "xghrFL5-4sqz",
        "outputId": "2920dc50-e561-474d-b312-ff67669b1e00"
      },
      "outputs": [
        {
          "output_type": "stream",
          "name": "stdout",
          "text": [
            "Invalid currency\n"
          ]
        }
      ],
      "source": [
        "\n"
      ]
    },
    {
      "cell_type": "code",
      "source": [
        "def currency_converter(amount, from_currency, to_currency, exchange_rate):\n",
        "    if from_currency == 'USD' and to_currency == 'PKR':\n",
        "        return amount * exchange_rate\n",
        "    elif from_currency == 'PKR' and to_currency == 'USD':\n",
        "        return amount / exchange_rate\n",
        "    else:\n",
        "        raise ValueError(\"Invalid currency conversion\")\n",
        "\n",
        "# Example exchange rate (1 USD = 275 PKR)\n",
        "exchange_rate = 275.0\n",
        "\n",
        "# Example usage\n",
        "while True:\n",
        "    try:\n",
        "        amount = float(input(\"Enter amount: \"))\n",
        "        from_currency = input(\"Convert from (USD/PKR): \").strip().upper()\n",
        "        to_currency = input(\"Convert to (USD/PKR): \").strip().upper()\n",
        "\n",
        "        result = currency_converter(amount, from_currency, to_currency, exchange_rate)\n",
        "        print(f\"{amount} {from_currency} is equal to {result:.2f} {to_currency}\")\n",
        "        break\n",
        "    except ValueError as e:\n",
        "        print(e)\n"
      ],
      "metadata": {
        "colab": {
          "base_uri": "https://localhost:8080/"
        },
        "id": "pQiiXRoO6W-4",
        "outputId": "6efc6b2f-15fd-4865-8b33-8583abb22d33"
      },
      "execution_count": 3,
      "outputs": [
        {
          "output_type": "stream",
          "name": "stdout",
          "text": [
            "Enter amount: 500PKR\n",
            "could not convert string to float: '500PKR'\n",
            "Enter amount: 500\n",
            "Convert from (USD/PKR): PKR\n",
            "Convert to (USD/PKR): USD\n",
            "500.0 PKR is equal to 1.82 USD\n"
          ]
        }
      ]
    }
  ]
}